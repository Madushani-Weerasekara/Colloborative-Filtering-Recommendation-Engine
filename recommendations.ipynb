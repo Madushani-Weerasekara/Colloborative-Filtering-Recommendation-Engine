{
 "cells": [
  {
   "cell_type": "code",
   "execution_count": 291,
   "metadata": {},
   "outputs": [],
   "source": [
    "import pandas as pd\n",
    "from sklearn.metrics.pairwise import cosine_similarity\n",
    "from sklearn.feature_extraction.text import CountVectorizer"
   ]
  },
  {
   "cell_type": "code",
   "execution_count": 292,
   "metadata": {},
   "outputs": [],
   "source": [
    "# Load user profiles\n",
    "df_user_profiles = pd.read_csv('Data//user_profiles_edited.csv')"
   ]
  },
  {
   "cell_type": "code",
   "execution_count": 293,
   "metadata": {},
   "outputs": [
    {
     "data": {
      "text/html": [
       "<div>\n",
       "<style scoped>\n",
       "    .dataframe tbody tr th:only-of-type {\n",
       "        vertical-align: middle;\n",
       "    }\n",
       "\n",
       "    .dataframe tbody tr th {\n",
       "        vertical-align: top;\n",
       "    }\n",
       "\n",
       "    .dataframe thead th {\n",
       "        text-align: right;\n",
       "    }\n",
       "</style>\n",
       "<table border=\"1\" class=\"dataframe\">\n",
       "  <thead>\n",
       "    <tr style=\"text-align: right;\">\n",
       "      <th></th>\n",
       "      <th>User_ID</th>\n",
       "      <th>User_Name</th>\n",
       "      <th>Occupasion</th>\n",
       "      <th>Age</th>\n",
       "      <th>Interests</th>\n",
       "      <th>Country</th>\n",
       "    </tr>\n",
       "  </thead>\n",
       "  <tbody>\n",
       "    <tr>\n",
       "      <th>0</th>\n",
       "      <td>1</td>\n",
       "      <td>johndoe</td>\n",
       "      <td>Software Engineer</td>\n",
       "      <td>25</td>\n",
       "      <td>Adventure, Nature</td>\n",
       "      <td>USA</td>\n",
       "    </tr>\n",
       "    <tr>\n",
       "      <th>1</th>\n",
       "      <td>2</td>\n",
       "      <td>janedoe</td>\n",
       "      <td>Teacher</td>\n",
       "      <td>30</td>\n",
       "      <td>Culture, History</td>\n",
       "      <td>Canada</td>\n",
       "    </tr>\n",
       "    <tr>\n",
       "      <th>2</th>\n",
       "      <td>3</td>\n",
       "      <td>alice</td>\n",
       "      <td>Student</td>\n",
       "      <td>22</td>\n",
       "      <td>Beaches, Relaxation</td>\n",
       "      <td>UK</td>\n",
       "    </tr>\n",
       "    <tr>\n",
       "      <th>3</th>\n",
       "      <td>4</td>\n",
       "      <td>bob</td>\n",
       "      <td>Photographer</td>\n",
       "      <td>28</td>\n",
       "      <td>Wildlife, Adventure</td>\n",
       "      <td>Australia</td>\n",
       "    </tr>\n",
       "    <tr>\n",
       "      <th>4</th>\n",
       "      <td>5</td>\n",
       "      <td>charlie</td>\n",
       "      <td>Environmental Scientist</td>\n",
       "      <td>35</td>\n",
       "      <td>Nature, Wildlife</td>\n",
       "      <td>India</td>\n",
       "    </tr>\n",
       "    <tr>\n",
       "      <th>5</th>\n",
       "      <td>6</td>\n",
       "      <td>dave</td>\n",
       "      <td>Historian</td>\n",
       "      <td>40</td>\n",
       "      <td>Cultural, Historical</td>\n",
       "      <td>USA</td>\n",
       "    </tr>\n",
       "    <tr>\n",
       "      <th>6</th>\n",
       "      <td>7</td>\n",
       "      <td>emma</td>\n",
       "      <td>Travel Blogger</td>\n",
       "      <td>27</td>\n",
       "      <td>Adventure, Hiking</td>\n",
       "      <td>Canada</td>\n",
       "    </tr>\n",
       "    <tr>\n",
       "      <th>7</th>\n",
       "      <td>8</td>\n",
       "      <td>frank</td>\n",
       "      <td>Photographer</td>\n",
       "      <td>32</td>\n",
       "      <td>Wildlife</td>\n",
       "      <td>Germaney</td>\n",
       "    </tr>\n",
       "    <tr>\n",
       "      <th>8</th>\n",
       "      <td>9</td>\n",
       "      <td>Rajapaksha</td>\n",
       "      <td>Lawyer</td>\n",
       "      <td>43</td>\n",
       "      <td>Cultural Exploration, Networking Events, Relax...</td>\n",
       "      <td>Sri Lanka</td>\n",
       "    </tr>\n",
       "  </tbody>\n",
       "</table>\n",
       "</div>"
      ],
      "text/plain": [
       "   User_ID   User_Name               Occupasion  Age  \\\n",
       "0        1     johndoe        Software Engineer   25   \n",
       "1        2     janedoe                  Teacher   30   \n",
       "2        3       alice                  Student   22   \n",
       "3        4         bob             Photographer   28   \n",
       "4        5     charlie  Environmental Scientist   35   \n",
       "5        6        dave                Historian   40   \n",
       "6        7        emma           Travel Blogger   27   \n",
       "7        8       frank             Photographer   32   \n",
       "8        9  Rajapaksha                   Lawyer   43   \n",
       "\n",
       "                                           Interests    Country  \n",
       "0                                  Adventure, Nature        USA  \n",
       "1                                   Culture, History     Canada  \n",
       "2                               Beaches, Relaxation          UK  \n",
       "3                                Wildlife, Adventure  Australia  \n",
       "4                                   Nature, Wildlife      India  \n",
       "5                               Cultural, Historical        USA  \n",
       "6                                  Adventure, Hiking     Canada  \n",
       "7                                           Wildlife   Germaney  \n",
       "8  Cultural Exploration, Networking Events, Relax...  Sri Lanka  "
      ]
     },
     "execution_count": 293,
     "metadata": {},
     "output_type": "execute_result"
    }
   ],
   "source": [
    "df_user_profiles"
   ]
  },
  {
   "cell_type": "code",
   "execution_count": 294,
   "metadata": {},
   "outputs": [],
   "source": [
    "# Load the user_reviews\n",
    "df_user_reviews = pd.read_csv('Data\\\\user_reviews_edited.csv')"
   ]
  },
  {
   "cell_type": "code",
   "execution_count": 295,
   "metadata": {},
   "outputs": [
    {
     "data": {
      "text/html": [
       "<div>\n",
       "<style scoped>\n",
       "    .dataframe tbody tr th:only-of-type {\n",
       "        vertical-align: middle;\n",
       "    }\n",
       "\n",
       "    .dataframe tbody tr th {\n",
       "        vertical-align: top;\n",
       "    }\n",
       "\n",
       "    .dataframe thead th {\n",
       "        text-align: right;\n",
       "    }\n",
       "</style>\n",
       "<table border=\"1\" class=\"dataframe\">\n",
       "  <thead>\n",
       "    <tr style=\"text-align: right;\">\n",
       "      <th></th>\n",
       "      <th>Review ID</th>\n",
       "      <th>User ID</th>\n",
       "      <th>Location</th>\n",
       "      <th>Rating</th>\n",
       "      <th>Review</th>\n",
       "    </tr>\n",
       "  </thead>\n",
       "  <tbody>\n",
       "    <tr>\n",
       "      <th>0</th>\n",
       "      <td>1</td>\n",
       "      <td>1</td>\n",
       "      <td>Yala</td>\n",
       "      <td>5</td>\n",
       "      <td>Amazing wildlife experience</td>\n",
       "    </tr>\n",
       "    <tr>\n",
       "      <th>1</th>\n",
       "      <td>2</td>\n",
       "      <td>1</td>\n",
       "      <td>Horton Plains</td>\n",
       "      <td>4</td>\n",
       "      <td>Beautiful hiking trails</td>\n",
       "    </tr>\n",
       "    <tr>\n",
       "      <th>2</th>\n",
       "      <td>3</td>\n",
       "      <td>2</td>\n",
       "      <td>Kandy</td>\n",
       "      <td>4</td>\n",
       "      <td>Rich history and culture</td>\n",
       "    </tr>\n",
       "    <tr>\n",
       "      <th>3</th>\n",
       "      <td>4</td>\n",
       "      <td>2</td>\n",
       "      <td>Sigiriya</td>\n",
       "      <td>5</td>\n",
       "      <td>Stunning ancient rock fortress</td>\n",
       "    </tr>\n",
       "    <tr>\n",
       "      <th>4</th>\n",
       "      <td>5</td>\n",
       "      <td>3</td>\n",
       "      <td>Hikkaduwa</td>\n",
       "      <td>3</td>\n",
       "      <td>Nice beaches but can get crowded</td>\n",
       "    </tr>\n",
       "    <tr>\n",
       "      <th>5</th>\n",
       "      <td>6</td>\n",
       "      <td>3</td>\n",
       "      <td>Unawatuna</td>\n",
       "      <td>4</td>\n",
       "      <td>Lovely beach and great food</td>\n",
       "    </tr>\n",
       "    <tr>\n",
       "      <th>6</th>\n",
       "      <td>7</td>\n",
       "      <td>4</td>\n",
       "      <td>Yala</td>\n",
       "      <td>5</td>\n",
       "      <td>Incredible safari and animal sightings</td>\n",
       "    </tr>\n",
       "    <tr>\n",
       "      <th>7</th>\n",
       "      <td>8</td>\n",
       "      <td>4</td>\n",
       "      <td>Nuwara Eliya</td>\n",
       "      <td>4</td>\n",
       "      <td>Beautiful scenery and tea plantations</td>\n",
       "    </tr>\n",
       "    <tr>\n",
       "      <th>8</th>\n",
       "      <td>9</td>\n",
       "      <td>5</td>\n",
       "      <td>Sinharaja</td>\n",
       "      <td>5</td>\n",
       "      <td>A great place for nature lovers</td>\n",
       "    </tr>\n",
       "    <tr>\n",
       "      <th>9</th>\n",
       "      <td>10</td>\n",
       "      <td>5</td>\n",
       "      <td>Pinnawala</td>\n",
       "      <td>4</td>\n",
       "      <td>Interesting elephant orphanage</td>\n",
       "    </tr>\n",
       "  </tbody>\n",
       "</table>\n",
       "</div>"
      ],
      "text/plain": [
       "   Review ID  User ID       Location  Rating  \\\n",
       "0          1        1           Yala       5   \n",
       "1          2        1  Horton Plains       4   \n",
       "2          3        2          Kandy       4   \n",
       "3          4        2       Sigiriya       5   \n",
       "4          5        3      Hikkaduwa       3   \n",
       "5          6        3      Unawatuna       4   \n",
       "6          7        4           Yala       5   \n",
       "7          8        4   Nuwara Eliya       4   \n",
       "8          9        5      Sinharaja       5   \n",
       "9         10        5      Pinnawala       4   \n",
       "\n",
       "                                  Review   \n",
       "0             Amazing wildlife experience  \n",
       "1                 Beautiful hiking trails  \n",
       "2                Rich history and culture  \n",
       "3          Stunning ancient rock fortress  \n",
       "4        Nice beaches but can get crowded  \n",
       "5             Lovely beach and great food  \n",
       "6  Incredible safari and animal sightings  \n",
       "7   Beautiful scenery and tea plantations  \n",
       "8         A great place for nature lovers  \n",
       "9          Interesting elephant orphanage  "
      ]
     },
     "execution_count": 295,
     "metadata": {},
     "output_type": "execute_result"
    }
   ],
   "source": [
    "df_user_reviews"
   ]
  },
  {
   "cell_type": "code",
   "execution_count": 296,
   "metadata": {},
   "outputs": [
    {
     "data": {
      "text/plain": [
       "'\\n# Recommend users with similar interests\\ndef recommend_users(interests):\\n    # Convert input interests to a set for easy comparison\\n    user_interest_set = set(interests)\\n\\n    # List to hold recommended users\\n    recommendations = []\\n\\n    # Loop through user_profiles to find similar interests\\n    for index, profile in user_profiles.iterrows():  # Use iterrows to iterate over DataFrame rows\\n        common_interests = user_interest_set.intersection(set(profile[\\'Interests\\'].split(\\',\\')))  # Use profile to access interests\\n        if common_interests and profile[\"User_Name\"] != interests:  # Avoid recommending the same user\\n            recommendations.append((profile[\"User_Name\"], len(common_interests)))  # Use profile to access User_Name\\n\\n    # Sort by number of common interests (descending) and take the top 5\\n    recommendations.sort(key=lambda x: x[1], reverse=True)\\n    return [user for user, _ in recommendations[:5]]\\n\\n# Example usage\\ninput_interests = [\"Beaches\", \"Relaxation\"]  # User input interests\\nrecommended_users = recommend_users(input_interests)\\n\\nprint(\"Recommended users with similar interests:\")\\nfor user in recommended_users:  # Change to recommended_users\\n    print(user)\\n'"
      ]
     },
     "execution_count": 296,
     "metadata": {},
     "output_type": "execute_result"
    }
   ],
   "source": [
    "\"\"\"\n",
    "# Recommend users with similar interests\n",
    "def recommend_users(interests):\n",
    "    # Convert input interests to a set for easy comparison\n",
    "    user_interest_set = set(interests)\n",
    "\n",
    "    # List to hold recommended users\n",
    "    recommendations = []\n",
    "\n",
    "    # Loop through user_profiles to find similar interests\n",
    "    for index, profile in user_profiles.iterrows():  # Use iterrows to iterate over DataFrame rows\n",
    "        common_interests = user_interest_set.intersection(set(profile['Interests'].split(',')))  # Use profile to access interests\n",
    "        if common_interests and profile[\"User_Name\"] != interests:  # Avoid recommending the same user\n",
    "            recommendations.append((profile[\"User_Name\"], len(common_interests)))  # Use profile to access User_Name\n",
    "\n",
    "    # Sort by number of common interests (descending) and take the top 5\n",
    "    recommendations.sort(key=lambda x: x[1], reverse=True)\n",
    "    return [user for user, _ in recommendations[:5]]\n",
    "\n",
    "# Example usage\n",
    "input_interests = [\"Beaches\", \"Relaxation\"]  # User input interests\n",
    "recommended_users = recommend_users(input_interests)\n",
    "\n",
    "print(\"Recommended users with similar interests:\")\n",
    "for user in recommended_users:  # Change to recommended_users\n",
    "    print(user)\n",
    "\"\"\""
   ]
  },
  {
   "cell_type": "code",
   "execution_count": 297,
   "metadata": {},
   "outputs": [],
   "source": [
    "# Merge Dataset"
   ]
  },
  {
   "cell_type": "code",
   "execution_count": 298,
   "metadata": {},
   "outputs": [
    {
     "name": "stdout",
     "output_type": "stream",
     "text": [
      "Index(['User_ID', 'User_Name', 'Occupasion', 'Age', 'Interests', 'Country'], dtype='object')\n",
      "Index(['Review ID', 'User ID', 'Location', 'Rating', 'Review '], dtype='object')\n"
     ]
    }
   ],
   "source": [
    "print(df_user_profiles.columns)\n",
    "print(df_user_reviews.columns)"
   ]
  },
  {
   "cell_type": "code",
   "execution_count": 299,
   "metadata": {},
   "outputs": [],
   "source": [
    "df_user_reviews.rename(columns={'User ID': 'User_ID'}, inplace=True)"
   ]
  },
  {
   "cell_type": "code",
   "execution_count": 300,
   "metadata": {},
   "outputs": [],
   "source": [
    "df_merged = pd.merge(df_user_profiles, df_user_reviews, on=\"User_ID\", how=\"inner\")"
   ]
  },
  {
   "cell_type": "code",
   "execution_count": 301,
   "metadata": {},
   "outputs": [
    {
     "data": {
      "text/html": [
       "<div>\n",
       "<style scoped>\n",
       "    .dataframe tbody tr th:only-of-type {\n",
       "        vertical-align: middle;\n",
       "    }\n",
       "\n",
       "    .dataframe tbody tr th {\n",
       "        vertical-align: top;\n",
       "    }\n",
       "\n",
       "    .dataframe thead th {\n",
       "        text-align: right;\n",
       "    }\n",
       "</style>\n",
       "<table border=\"1\" class=\"dataframe\">\n",
       "  <thead>\n",
       "    <tr style=\"text-align: right;\">\n",
       "      <th></th>\n",
       "      <th>User_ID</th>\n",
       "      <th>User_Name</th>\n",
       "      <th>Occupasion</th>\n",
       "      <th>Age</th>\n",
       "      <th>Interests</th>\n",
       "      <th>Country</th>\n",
       "      <th>Review ID</th>\n",
       "      <th>Location</th>\n",
       "      <th>Rating</th>\n",
       "      <th>Review</th>\n",
       "    </tr>\n",
       "  </thead>\n",
       "  <tbody>\n",
       "    <tr>\n",
       "      <th>0</th>\n",
       "      <td>1</td>\n",
       "      <td>johndoe</td>\n",
       "      <td>Software Engineer</td>\n",
       "      <td>25</td>\n",
       "      <td>Adventure, Nature</td>\n",
       "      <td>USA</td>\n",
       "      <td>1</td>\n",
       "      <td>Yala</td>\n",
       "      <td>5</td>\n",
       "      <td>Amazing wildlife experience</td>\n",
       "    </tr>\n",
       "    <tr>\n",
       "      <th>1</th>\n",
       "      <td>1</td>\n",
       "      <td>johndoe</td>\n",
       "      <td>Software Engineer</td>\n",
       "      <td>25</td>\n",
       "      <td>Adventure, Nature</td>\n",
       "      <td>USA</td>\n",
       "      <td>2</td>\n",
       "      <td>Horton Plains</td>\n",
       "      <td>4</td>\n",
       "      <td>Beautiful hiking trails</td>\n",
       "    </tr>\n",
       "    <tr>\n",
       "      <th>2</th>\n",
       "      <td>2</td>\n",
       "      <td>janedoe</td>\n",
       "      <td>Teacher</td>\n",
       "      <td>30</td>\n",
       "      <td>Culture, History</td>\n",
       "      <td>Canada</td>\n",
       "      <td>3</td>\n",
       "      <td>Kandy</td>\n",
       "      <td>4</td>\n",
       "      <td>Rich history and culture</td>\n",
       "    </tr>\n",
       "    <tr>\n",
       "      <th>3</th>\n",
       "      <td>2</td>\n",
       "      <td>janedoe</td>\n",
       "      <td>Teacher</td>\n",
       "      <td>30</td>\n",
       "      <td>Culture, History</td>\n",
       "      <td>Canada</td>\n",
       "      <td>4</td>\n",
       "      <td>Sigiriya</td>\n",
       "      <td>5</td>\n",
       "      <td>Stunning ancient rock fortress</td>\n",
       "    </tr>\n",
       "    <tr>\n",
       "      <th>4</th>\n",
       "      <td>3</td>\n",
       "      <td>alice</td>\n",
       "      <td>Student</td>\n",
       "      <td>22</td>\n",
       "      <td>Beaches, Relaxation</td>\n",
       "      <td>UK</td>\n",
       "      <td>5</td>\n",
       "      <td>Hikkaduwa</td>\n",
       "      <td>3</td>\n",
       "      <td>Nice beaches but can get crowded</td>\n",
       "    </tr>\n",
       "    <tr>\n",
       "      <th>5</th>\n",
       "      <td>3</td>\n",
       "      <td>alice</td>\n",
       "      <td>Student</td>\n",
       "      <td>22</td>\n",
       "      <td>Beaches, Relaxation</td>\n",
       "      <td>UK</td>\n",
       "      <td>6</td>\n",
       "      <td>Unawatuna</td>\n",
       "      <td>4</td>\n",
       "      <td>Lovely beach and great food</td>\n",
       "    </tr>\n",
       "    <tr>\n",
       "      <th>6</th>\n",
       "      <td>4</td>\n",
       "      <td>bob</td>\n",
       "      <td>Photographer</td>\n",
       "      <td>28</td>\n",
       "      <td>Wildlife, Adventure</td>\n",
       "      <td>Australia</td>\n",
       "      <td>7</td>\n",
       "      <td>Yala</td>\n",
       "      <td>5</td>\n",
       "      <td>Incredible safari and animal sightings</td>\n",
       "    </tr>\n",
       "    <tr>\n",
       "      <th>7</th>\n",
       "      <td>4</td>\n",
       "      <td>bob</td>\n",
       "      <td>Photographer</td>\n",
       "      <td>28</td>\n",
       "      <td>Wildlife, Adventure</td>\n",
       "      <td>Australia</td>\n",
       "      <td>8</td>\n",
       "      <td>Nuwara Eliya</td>\n",
       "      <td>4</td>\n",
       "      <td>Beautiful scenery and tea plantations</td>\n",
       "    </tr>\n",
       "    <tr>\n",
       "      <th>8</th>\n",
       "      <td>5</td>\n",
       "      <td>charlie</td>\n",
       "      <td>Environmental Scientist</td>\n",
       "      <td>35</td>\n",
       "      <td>Nature, Wildlife</td>\n",
       "      <td>India</td>\n",
       "      <td>9</td>\n",
       "      <td>Sinharaja</td>\n",
       "      <td>5</td>\n",
       "      <td>A great place for nature lovers</td>\n",
       "    </tr>\n",
       "    <tr>\n",
       "      <th>9</th>\n",
       "      <td>5</td>\n",
       "      <td>charlie</td>\n",
       "      <td>Environmental Scientist</td>\n",
       "      <td>35</td>\n",
       "      <td>Nature, Wildlife</td>\n",
       "      <td>India</td>\n",
       "      <td>10</td>\n",
       "      <td>Pinnawala</td>\n",
       "      <td>4</td>\n",
       "      <td>Interesting elephant orphanage</td>\n",
       "    </tr>\n",
       "  </tbody>\n",
       "</table>\n",
       "</div>"
      ],
      "text/plain": [
       "   User_ID User_Name               Occupasion  Age             Interests  \\\n",
       "0        1   johndoe        Software Engineer   25     Adventure, Nature   \n",
       "1        1   johndoe        Software Engineer   25     Adventure, Nature   \n",
       "2        2   janedoe                  Teacher   30      Culture, History   \n",
       "3        2   janedoe                  Teacher   30      Culture, History   \n",
       "4        3     alice                  Student   22  Beaches, Relaxation    \n",
       "5        3     alice                  Student   22  Beaches, Relaxation    \n",
       "6        4       bob             Photographer   28   Wildlife, Adventure   \n",
       "7        4       bob             Photographer   28   Wildlife, Adventure   \n",
       "8        5   charlie  Environmental Scientist   35      Nature, Wildlife   \n",
       "9        5   charlie  Environmental Scientist   35      Nature, Wildlife   \n",
       "\n",
       "     Country  Review ID       Location  Rating  \\\n",
       "0        USA          1           Yala       5   \n",
       "1        USA          2  Horton Plains       4   \n",
       "2     Canada          3          Kandy       4   \n",
       "3     Canada          4       Sigiriya       5   \n",
       "4         UK          5      Hikkaduwa       3   \n",
       "5         UK          6      Unawatuna       4   \n",
       "6  Australia          7           Yala       5   \n",
       "7  Australia          8   Nuwara Eliya       4   \n",
       "8      India          9      Sinharaja       5   \n",
       "9      India         10      Pinnawala       4   \n",
       "\n",
       "                                  Review   \n",
       "0             Amazing wildlife experience  \n",
       "1                 Beautiful hiking trails  \n",
       "2                Rich history and culture  \n",
       "3          Stunning ancient rock fortress  \n",
       "4        Nice beaches but can get crowded  \n",
       "5             Lovely beach and great food  \n",
       "6  Incredible safari and animal sightings  \n",
       "7   Beautiful scenery and tea plantations  \n",
       "8         A great place for nature lovers  \n",
       "9          Interesting elephant orphanage  "
      ]
     },
     "execution_count": 301,
     "metadata": {},
     "output_type": "execute_result"
    }
   ],
   "source": [
    "df_merged"
   ]
  },
  {
   "cell_type": "code",
   "execution_count": 302,
   "metadata": {},
   "outputs": [
    {
     "data": {
      "text/plain": [
       "Index(['User_ID', 'User_Name', 'Occupasion', 'Age', 'Interests', 'Country',\n",
       "       'Review ID', 'Location', 'Rating', 'Review '],\n",
       "      dtype='object')"
      ]
     },
     "execution_count": 302,
     "metadata": {},
     "output_type": "execute_result"
    }
   ],
   "source": [
    "df_merged.columns"
   ]
  },
  {
   "cell_type": "code",
   "execution_count": 303,
   "metadata": {},
   "outputs": [],
   "source": [
    "# create a combined feature string for each user\n",
    "df_merged['combined_features'] = (df_merged['Occupasion'] + ' ' + df_merged['Age'].astype(str) + ' ' + df_merged['Interests'] + ' ' + df_merged['Country'])"
   ]
  },
  {
   "cell_type": "code",
   "execution_count": 304,
   "metadata": {},
   "outputs": [],
   "source": [
    "# Create a combined feature string for input user\n",
    "input_user_combined = (str(df_merged['Occupasion']) + ' ' + str(df_merged['Age']) + ' ' + str(df_merged['Interests']) + ' ' + str(df_merged['Country']))"
   ]
  },
  {
   "cell_type": "code",
   "execution_count": 305,
   "metadata": {},
   "outputs": [
    {
     "data": {
      "text/plain": [
       "Index(['User_ID', 'User_Name', 'Occupasion', 'Age', 'Interests', 'Country',\n",
       "       'Review ID', 'Location', 'Rating', 'Review ', 'combined_features'],\n",
       "      dtype='object')"
      ]
     },
     "execution_count": 305,
     "metadata": {},
     "output_type": "execute_result"
    }
   ],
   "source": [
    "df_merged.columns"
   ]
  },
  {
   "cell_type": "code",
   "execution_count": 306,
   "metadata": {},
   "outputs": [],
   "source": [
    "# Recommend similar users\n",
    "def recommend_similar_users(input_users):\n",
    "    pass\n",
    "    "
   ]
  },
  {
   "cell_type": "code",
   "execution_count": 307,
   "metadata": {},
   "outputs": [],
   "source": [
    "# append the input users combined features to the df_merged Data Frame\n",
    "combined_features = df_merged['combined_features'].tolist() + [input_user_combined]"
   ]
  },
  {
   "cell_type": "code",
   "execution_count": 308,
   "metadata": {},
   "outputs": [
    {
     "data": {
      "text/plain": [
       "['Software Engineer 25 Adventure, Nature USA',\n",
       " 'Software Engineer 25 Adventure, Nature USA',\n",
       " 'Teacher 30 Culture, History Canada',\n",
       " 'Teacher 30 Culture, History Canada',\n",
       " 'Student 22 Beaches, Relaxation  UK',\n",
       " 'Student 22 Beaches, Relaxation  UK',\n",
       " 'Photographer 28 Wildlife, Adventure Australia',\n",
       " 'Photographer 28 Wildlife, Adventure Australia',\n",
       " 'Environmental Scientist 35 Nature, Wildlife India',\n",
       " 'Environmental Scientist 35 Nature, Wildlife India',\n",
       " '0          Software Engineer\\n1          Software Engineer\\n2                    Teacher\\n3                    Teacher\\n4                    Student\\n5                    Student\\n6               Photographer\\n7               Photographer\\n8    Environmental Scientist\\n9    Environmental Scientist\\nName: Occupasion, dtype: object 0    25\\n1    25\\n2    30\\n3    30\\n4    22\\n5    22\\n6    28\\n7    28\\n8    35\\n9    35\\nName: Age, dtype: int64 0       Adventure, Nature\\n1       Adventure, Nature\\n2        Culture, History\\n3        Culture, History\\n4    Beaches, Relaxation \\n5    Beaches, Relaxation \\n6     Wildlife, Adventure\\n7     Wildlife, Adventure\\n8        Nature, Wildlife\\n9        Nature, Wildlife\\nName: Interests, dtype: object 0          USA\\n1          USA\\n2       Canada\\n3       Canada\\n4           UK\\n5           UK\\n6    Australia\\n7    Australia\\n8        India\\n9        India\\nName: Country, dtype: object']"
      ]
     },
     "execution_count": 308,
     "metadata": {},
     "output_type": "execute_result"
    }
   ],
   "source": [
    "combined_features"
   ]
  },
  {
   "cell_type": "code",
   "execution_count": 309,
   "metadata": {},
   "outputs": [
    {
     "data": {
      "text/plain": [
       "list"
      ]
     },
     "execution_count": 309,
     "metadata": {},
     "output_type": "execute_result"
    }
   ],
   "source": [
    "type(combined_features)"
   ]
  },
  {
   "cell_type": "code",
   "execution_count": 310,
   "metadata": {},
   "outputs": [],
   "source": [
    "# vectorize the combined features\n",
    "vectorizer = CountVectorizer()\n",
    "combined_features_matrix = vectorizer.fit_transform(combined_features)"
   ]
  },
  {
   "cell_type": "code",
   "execution_count": 314,
   "metadata": {},
   "outputs": [
    {
     "data": {
      "text/plain": [
       "<11x32 sparse matrix of type '<class 'numpy.int64'>'\n",
       "\twith 86 stored elements in Compressed Sparse Row format>"
      ]
     },
     "execution_count": 314,
     "metadata": {},
     "output_type": "execute_result"
    }
   ],
   "source": [
    "combined_features_matrix"
   ]
  },
  {
   "cell_type": "code",
   "execution_count": 317,
   "metadata": {},
   "outputs": [
    {
     "data": {
      "text/plain": [
       "array([[0, 1, 0, 0, 0, 1, 0, 0, 0, 0, 0, 0, 0, 1, 0, 0, 0, 0, 0, 0, 1, 0,\n",
       "        0, 0, 0, 0, 1, 0, 0, 0, 1, 0],\n",
       "       [0, 1, 0, 0, 0, 1, 0, 0, 0, 0, 0, 0, 0, 1, 0, 0, 0, 0, 0, 0, 1, 0,\n",
       "        0, 0, 0, 0, 1, 0, 0, 0, 1, 0],\n",
       "       [0, 0, 0, 1, 0, 0, 0, 0, 0, 1, 0, 1, 0, 0, 0, 1, 0, 0, 0, 0, 0, 0,\n",
       "        0, 0, 0, 0, 0, 0, 1, 0, 0, 0],\n",
       "       [0, 0, 0, 1, 0, 0, 0, 0, 0, 1, 0, 1, 0, 0, 0, 1, 0, 0, 0, 0, 0, 0,\n",
       "        0, 0, 0, 0, 0, 0, 1, 0, 0, 0],\n",
       "       [1, 0, 0, 0, 0, 0, 0, 0, 1, 0, 0, 0, 0, 0, 0, 0, 0, 0, 0, 0, 0, 0,\n",
       "        0, 0, 1, 0, 0, 1, 0, 1, 0, 0],\n",
       "       [1, 0, 0, 0, 0, 0, 0, 0, 1, 0, 0, 0, 0, 0, 0, 0, 0, 0, 0, 0, 0, 0,\n",
       "        0, 0, 1, 0, 0, 1, 0, 1, 0, 0],\n",
       "       [0, 0, 1, 0, 0, 1, 0, 1, 0, 0, 0, 0, 0, 0, 0, 0, 0, 0, 0, 0, 0, 0,\n",
       "        0, 1, 0, 0, 0, 0, 0, 0, 0, 1],\n",
       "       [0, 0, 1, 0, 0, 1, 0, 1, 0, 0, 0, 0, 0, 0, 0, 0, 0, 0, 0, 0, 0, 0,\n",
       "        0, 1, 0, 0, 0, 0, 0, 0, 0, 1],\n",
       "       [0, 0, 0, 0, 1, 0, 0, 0, 0, 0, 0, 0, 0, 0, 1, 0, 1, 0, 0, 0, 1, 0,\n",
       "        0, 0, 0, 1, 0, 0, 0, 0, 0, 1],\n",
       "       [0, 0, 0, 0, 1, 0, 0, 0, 0, 0, 0, 0, 0, 0, 1, 0, 1, 0, 0, 0, 1, 0,\n",
       "        0, 0, 0, 1, 0, 0, 0, 0, 0, 1],\n",
       "       [2, 2, 2, 2, 2, 4, 1, 2, 2, 2, 1, 2, 4, 2, 2, 2, 2, 1, 1, 4, 4, 3,\n",
       "        1, 2, 2, 2, 2, 2, 2, 2, 2, 4]], dtype=int64)"
      ]
     },
     "execution_count": 317,
     "metadata": {},
     "output_type": "execute_result"
    }
   ],
   "source": [
    "combined_features_matrix.toarray()"
   ]
  },
  {
   "cell_type": "code",
   "execution_count": 330,
   "metadata": {},
   "outputs": [
    {
     "ename": "NameError",
     "evalue": "name 'combined_features_matrix' is not defined",
     "output_type": "error",
     "traceback": [
      "\u001b[1;31m---------------------------------------------------------------------------\u001b[0m",
      "\u001b[1;31mNameError\u001b[0m                                 Traceback (most recent call last)",
      "Cell \u001b[1;32mIn[330], line 2\u001b[0m\n\u001b[0;32m      1\u001b[0m \u001b[38;5;66;03m# Determine the similarity\u001b[39;00m\n\u001b[1;32m----> 2\u001b[0m similarity \u001b[38;5;241m=\u001b[39m cosine_similarity(\u001b[43mcombined_features_matrix\u001b[49m)\n",
      "\u001b[1;31mNameError\u001b[0m: name 'combined_features_matrix' is not defined"
     ]
    }
   ],
   "source": [
    "# Determine the similarity\n",
    "similarity = cosine_similarity(combined_features)"
   ]
  },
  {
   "cell_type": "code",
   "execution_count": null,
   "metadata": {},
   "outputs": [],
   "source": []
  }
 ],
 "metadata": {
  "kernelspec": {
   "display_name": "competition",
   "language": "python",
   "name": "python3"
  },
  "language_info": {
   "codemirror_mode": {
    "name": "ipython",
    "version": 3
   },
   "file_extension": ".py",
   "mimetype": "text/x-python",
   "name": "python",
   "nbconvert_exporter": "python",
   "pygments_lexer": "ipython3",
   "version": "3.9.19"
  }
 },
 "nbformat": 4,
 "nbformat_minor": 2
}
